{
 "cells": [
  {
   "cell_type": "code",
   "execution_count": 1,
   "id": "678d1da3",
   "metadata": {},
   "outputs": [],
   "source": [
    "import requests\n",
    "import nltk\n",
    "from bs4 import BeautifulSoup\n",
    "from collections import Counter"
   ]
  },
  {
   "cell_type": "code",
   "execution_count": 2,
   "id": "2d45ca2b",
   "metadata": {},
   "outputs": [
    {
     "name": "stdout",
     "output_type": "stream",
     "text": [
      "<!DOCTYPE html PUBLIC \"-//W3C//DTD XHTML 1.0 Strict//EN\"\r\n",
      "\"http://www.w3.org/TR/xhtml1/DTD/xhtml1-strict.dtd\">\r\n",
      "<html xmlns=\"http://www.w3.org/1999/xhtml\" xml:lang=\"en\" lang=\"en\">\r\n",
      "<head>\r\n",
      "<meta http-equiv=\"Content-Type\" content=\"text/html;charset=utf-8\" />\r\n",
      "<meta http-equiv=\"Content-Style-Type\" content=\"text/css\" />\r\n",
      "<title>The Project Gutenberg eBook of Peter Pan, by James M. Barrie</title>\r\n",
      "\r\n",
      "<style type=\"text/css\">\r\n",
      "\r\n",
      "body { margin-left: 20%;\r\n",
      "       margin-right: 20%;\r\n",
      "       text-align: justify; }\r\n",
      "\r\n",
      "h1, h2, h3, h4, h5 {text-align: center; font-style: normal; font-weight:\r\n",
      "normal; line-height: 1.5; margin-top: .5em; margin-bottom: .5em;}\r\n",
      "\r\n",
      "h1 {font-size: 300%;\r\n",
      "    margin-top: 0.6em;\r\n",
      "    margin-bottom: 0.6em;\r\n",
      "    letter-spacing: 0.12em;\r\n",
      "    word-spacing: 0.2em;\r\n",
      "    text-indent: 0em;}\r\n",
      "h2 {font-size: 150%; margin-top: 2em; margin-bottom: 1em;}\r\n",
      "h3 {font-size: 130%; margin-top: 1em;}\r\n",
      "h4 {font-size: 120%;}\r\n",
      "h5 {font-size: 110%;}\r\n",
      "\r\n",
      ".no-break {page-break-before: avoid;} /* for epubs */\r\n",
      "\r\n",
      "div.chapter {page-break-before: always; margin-top: 4em;}\r\n",
      "\r\n",
      "hr {width: 80%; margin-top: 2em; margin-bottom: 2em;}\r\n",
      "\r\n",
      "p {text-indent: 1em;\r\n",
      "   margin-top: 0.25em;\r\n",
      "   margin-bottom: 0.25em; }\r\n",
      "\r\n",
      "p.poem {text-indent: 0%;\r\n",
      "        margin-left: 10%;\r\n",
      "        font-size: 90%;\r\n",
      "        margin-top: 1em;\r\n",
      "        margin-bottom: 1em; }\r\n",
      "\r\n",
      "p.letter {text-indent: 0%;\r\n",
      "          margin-left: 10%;\r\n",
      "          margin-right: 10%;\r\n",
      "          margin-top: 1em;\r\n",
      "          margin-bottom: 1em; }\r\n",
      "\r\n",
      "p.center  {text-align: center;\r\n",
      "           text-indent: 0em;\r\n",
      "           margin-top: 1em;\r\n",
      "           margin-bottom: 1em; }\r\n",
      "\r\n",
      "a:link {color:blue; text-decoration:none}\r\n",
      "a:visited {color:blue; text-decoration:none}\r\n",
      "a:hover {color:red}\r\n",
      "\r\n",
      "</style>\r\n",
      "\r\n",
      "</head>\r\n",
      "\r\n",
      "<body>\r\n",
      "\r\n",
      "<div style='text-align:center; font-size:1.2em; font-weight:bold;'>The Project Gutenberg eBook of Peter Pan, by James M. Barrie</div>\r\n",
      "<div style='display:block; margin:1em 0'>\r\n",
      "This eBook is for the use of anyone anywhere in the Unit\n"
     ]
    }
   ],
   "source": [
    "r = requests.get(\"https://www.gutenberg.org/files/16/16-h/16-h.htm\")\n",
    "\n",
    "r.encoding = \"utf-8\"\n",
    "\n",
    "html = r.text\n",
    "\n",
    "print(html[:2000])"
   ]
  },
  {
   "cell_type": "code",
   "execution_count": 3,
   "id": "4c200e59",
   "metadata": {},
   "outputs": [
    {
     "name": "stdout",
     "output_type": "stream",
     "text": [
      "\n",
      "\n",
      "\n",
      "\n",
      "The Project Gutenberg eBook of Peter Pan, by James M. Barrie\n",
      "\n",
      "\n",
      "\n",
      "The Project Gutenberg eBook of Peter Pan, by James M. Barrie\n",
      "\r\n",
      "This eBook is for the use of anyone anywhere in the United States and\r\n",
      "most other parts of the world at no cost and with almost no restrictions\r\n",
      "whatsoever. You may copy it, give it away or re-use it under the terms\r\n",
      "of the Project Gutenberg License included with this eBook or online\r\n",
      "at www.gutenberg.org. If you\r\n",
      "are not located in the United States, you will have to check the laws of the\r\n",
      "country where you are located before using this eBook.\r\n",
      "\n",
      "Title: Peter Pan\r\n",
      "Peter Pan and Wendy\n",
      "Author: James M. Barrie\n",
      "Release Date: July, 1991 [eBook #16]\r\n",
      "[Most recently updated: February 15, 2021]\n",
      "Language: English\n",
      "Character set encoding: UTF-8\n",
      "Produced by: Duncan Research\n",
      "*** START OF THE PROJECT GUTENBERG EBOOK PETER PAN ***\n",
      "Peter Pan\n",
      "[PETER AND WENDY]\n",
      "by J. M. Barrie [James Matthew Barrie]\n",
      "\r\n",
      "A Millennium Fulcrum Edition produced in 1991 by Duncan Research. Note that\r\n",
      "while a copyright was initially claimed for the labor involved in digitization,\r\n",
      "that copyright claim is not consistent with current copyright requirements.\r\n",
      "This text, which matches the 1911 original publication, is in the public domain\r\n",
      "in the US.\r\n",
      "\n",
      "\n",
      "Contents\n",
      "\n",
      "\n",
      " Chapter I. PETER BREAKS THROUGH\n",
      "\n",
      "\n",
      " Chapter II. THE SHADOW\n",
      "\n",
      "\n",
      " Chapter III. COME AWAY, COME AWAY!\n",
      "\n",
      "\n",
      " Chapter IV. THE FLIGHT\n",
      "\n",
      "\n",
      " Chapter V. THE ISLAND COME TRUE\n",
      "\n",
      "\n",
      " Chapter VI. THE LITTLE HOUSE\n",
      "\n",
      "\n",
      " Chapter VII. THE HOME UNDER THE GROUND\n",
      "\n",
      "\n",
      " Chapter VIII. THE MERMAIDS’ LAGOON\n",
      "\n",
      "\n",
      " Chapter IX. THE NEVER BIRD\n",
      "\n",
      "\n",
      " Chapter X. THE HAPPY HOME\n",
      "\n",
      "\n",
      " Chapter XI. WENDY’S STORY\n",
      "\n",
      "\n",
      " Chapter XII. THE CHILDREN ARE CARRIED OFF\n",
      "\n",
      "\n",
      " Chapter XIII. DO YOU BELIEVE IN FAIRIES?\n",
      "\n",
      "\n",
      " Chapter XIV. THE PIRATE SHIP\n",
      "\n",
      "\n",
      " Chapter XV. “HOOK OR ME THIS TIME”\n",
      "\n",
      "\n",
      " Chapter XVI. THE RETURN HOME\n",
      "\n",
      "\n",
      " Chapter XVII. WHEN WENDY GREW UP\n",
      "\n",
      "\n",
      "\n",
      "Chapter I.\r\n",
      "PETER BREAKS THROUGH\n",
      "\r\n",
      "All children, except one, grow up. They soon know that they will grow up, and\r\n",
      "the way Wendy knew was this. On\n"
     ]
    }
   ],
   "source": [
    "soup = BeautifulSoup(html)\n",
    "\n",
    "text = soup.text\n",
    "\n",
    "print(text[:2000])"
   ]
  },
  {
   "cell_type": "code",
   "execution_count": 4,
   "id": "b4d12b42",
   "metadata": {},
   "outputs": [
    {
     "name": "stdout",
     "output_type": "stream",
     "text": [
      "['The', 'Project', 'Gutenberg', 'eBook', 'of', 'Peter', 'Pan', 'by', 'James', 'M']\n"
     ]
    }
   ],
   "source": [
    "#Tokenization\n",
    "\n",
    "tokenizer = nltk.tokenize.RegexpTokenizer(\"\\w+\")\n",
    "\n",
    "tokens = tokenizer.tokenize(text)\n",
    "\n",
    "print(tokens[:10])"
   ]
  },
  {
   "cell_type": "code",
   "execution_count": 5,
   "id": "b0cd5b20",
   "metadata": {},
   "outputs": [
    {
     "name": "stdout",
     "output_type": "stream",
     "text": [
      "['the', 'project', 'gutenberg', 'ebook', 'of', 'peter']\n"
     ]
    }
   ],
   "source": [
    "## lower case all the words\n",
    "words = [token.lower() for token in tokens]\n",
    "print(words[:6])"
   ]
  },
  {
   "cell_type": "code",
   "execution_count": 6,
   "id": "699a5c2d",
   "metadata": {},
   "outputs": [
    {
     "name": "stderr",
     "output_type": "stream",
     "text": [
      "[nltk_data] Downloading package stopwords to C:\\Users\\Karishma\n",
      "[nltk_data]     Bhalshankar\\AppData\\Roaming\\nltk_data...\n",
      "[nltk_data]   Unzipping corpora\\stopwords.zip.\n"
     ]
    },
    {
     "data": {
      "text/plain": [
       "True"
      ]
     },
     "execution_count": 6,
     "metadata": {},
     "output_type": "execute_result"
    }
   ],
   "source": [
    "##stop words\n",
    "\n",
    "nltk.download('stopwords')"
   ]
  },
  {
   "cell_type": "code",
   "execution_count": 7,
   "id": "a55f81b0",
   "metadata": {},
   "outputs": [
    {
     "name": "stdout",
     "output_type": "stream",
     "text": [
      "['i', 'me', 'my', 'myself', 'we', 'our', 'ours', 'ourselves', 'you', \"you're\", \"you've\", \"you'll\", \"you'd\", 'your', 'yours', 'yourself', 'yourselves', 'he', 'him', 'his', 'himself', 'she', \"she's\", 'her', 'hers', 'herself', 'it', \"it's\", 'its', 'itself']\n"
     ]
    }
   ],
   "source": [
    "stop_words = nltk.corpus.stopwords.words(\"english\")\n",
    "\n",
    "print(stop_words[:30])"
   ]
  },
  {
   "cell_type": "code",
   "execution_count": 8,
   "id": "79eefec4",
   "metadata": {},
   "outputs": [
    {
     "name": "stdout",
     "output_type": "stream",
     "text": [
      "['project', 'gutenberg', 'ebook', 'peter', 'pan', 'james']\n"
     ]
    }
   ],
   "source": [
    "words_clean = [word for word in words if word not in stop_words]\n",
    "\n",
    "print(words_clean[:6])"
   ]
  },
  {
   "cell_type": "code",
   "execution_count": 12,
   "id": "10e77979",
   "metadata": {},
   "outputs": [
    {
     "name": "stdout",
     "output_type": "stream",
     "text": [
      "[('peter', 409), ('wendy', 362), ('said', 358), ('would', 217), ('one', 212), ('hook', 174), ('could', 142), ('cried', 136), ('john', 133), ('time', 126), ('darling', 118), ('see', 111), ('michael', 110), ('little', 104), ('mother', 102), ('boys', 101), ('gutenberg', 99), ('children', 98), ('like', 94), ('know', 93)]\n"
     ]
    }
   ],
   "source": [
    "count_words = Counter(words_clean)\n",
    "\n",
    "top_10 = count_words.most_common(20)\n",
    "print(top_10)"
   ]
  },
  {
   "cell_type": "code",
   "execution_count": 13,
   "id": "7247b69c",
   "metadata": {},
   "outputs": [],
   "source": [
    "protogonists = [\"peter\", \"wendy\", \"hook\", \"john\"]"
   ]
  },
  {
   "cell_type": "code",
   "execution_count": 14,
   "id": "559e9c75",
   "metadata": {},
   "outputs": [
    {
     "name": "stdout",
     "output_type": "stream",
     "text": [
      " such a sweet mocking mouth. Her\r\n",
      "romantic mind was like the tiny boxes, one within the other, that come from the\r\n",
      "puzzling East, however many you discover there is always one more; and her\r\n",
      "sweet mocking mouth had one kiss on it that Wendy could never get, though there\r\n",
      "it was, perfectly conspicuous in the right-hand corner.\r\n",
      "\n",
      "\r\n",
      "The way Mr. Darling won her was this: the many gentlemen who had been boys when\r\n",
      "she was a girl discovered simultaneously that they loved her, and they all ran\r\n",
      "to her house to propose to her except Mr. Darling, who took a cab and nipped in\r\n",
      "first, and so he got her. He got all of her, except the innermost box and the\r\n",
      "kiss. He never knew about the box, and in time he gave up trying for the kiss.\r\n",
      "Wendy thought Napoleon could have got it, but I can picture him trying, and\r\n",
      "then going off in a passion, slamming the door.\r\n",
      "\n",
      "\r\n",
      "Mr. Darling used to boast to Wendy that her mother not only loved him but\r\n",
      "respected him. He was one of those deep ones who know about sto\n"
     ]
    }
   ],
   "source": [
    "trimmed_text = text[2583:]\n",
    "\n",
    "print(trimmed_text[:1000])"
   ]
  },
  {
   "cell_type": "code",
   "execution_count": 17,
   "id": "90cc8569",
   "metadata": {},
   "outputs": [
    {
     "data": {
      "text/plain": [
       "Text(0.5, 1.0, \"Peter Pan's most common words\")"
      ]
     },
     "execution_count": 17,
     "metadata": {},
     "output_type": "execute_result"
    },
    {
     "data": {
      "image/png": "[encoded data removed]",
      "text/plain": [
       "<Figure size 1080x504 with 1 Axes>"
      ]
     },
     "metadata": {},
     "output_type": "display_data"
    }
   ],
   "source": [
    "import matplotlib.pyplot as plt\n",
    "import seaborn as sns\n",
    "import pandas as pd\n",
    "\n",
    "data = pd.DataFrame(top_10, columns = [\"words\", \"occurances\"])\n",
    "sns.set_style(\"darkgrid\")\n",
    "plt.figure(figsize=(15, 7))\n",
    "sns.barplot(x=\"words\", y=\"occurances\", data=data, saturation=0.9).set_title(\"Peter Pan's most common words\")"
   ]
  },
  {
   "cell_type": "code",
   "execution_count": null,
   "id": "6f56fd26",
   "metadata": {},
   "outputs": [],
   "source": []
  }
 ],
 "metadata": {
  "kernelspec": {
   "display_name": "Python 3 (ipykernel)",
   "language": "python",
   "name": "python3"
  },
  "language_info": {
   "codemirror_mode": {
    "name": "ipython",
    "version": 3
   },
   "file_extension": ".py",
   "mimetype": "text/x-python",
   "name": "python",
   "nbconvert_exporter": "python",
   "pygments_lexer": "ipython3",
   "version": "3.9.7"
  }
 },
 "nbformat": 4,
 "nbformat_minor": 5
}
